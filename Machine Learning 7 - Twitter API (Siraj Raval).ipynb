{
 "cells": [
  {
   "cell_type": "code",
   "execution_count": 1,
   "metadata": {},
   "outputs": [],
   "source": [
    "### Twitter sentiment analysis ###\n",
    "# The 3 steps to build the model:\n",
    "# 1. Register for Twitter API\n",
    "# 2. Install dependencies\n",
    "# 3. Write our script"
   ]
  },
  {
   "cell_type": "code",
   "execution_count": 16,
   "metadata": {},
   "outputs": [],
   "source": [
    "from textblob import TextBlob"
   ]
  },
  {
   "cell_type": "code",
   "execution_count": 10,
   "metadata": {},
   "outputs": [
    {
     "data": {
      "text/plain": [
       "[('Whatever', 'WDT'),\n",
       " ('is', 'VBZ'),\n",
       " ('done', 'VBN'),\n",
       " ('for', 'IN'),\n",
       " ('love', 'NN'),\n",
       " ('always', 'RB'),\n",
       " ('occurs', 'VBZ'),\n",
       " ('beyond', 'IN'),\n",
       " ('good', 'JJ'),\n",
       " ('and', 'CC'),\n",
       " ('evil', 'JJ')]"
      ]
     },
     "execution_count": 10,
     "metadata": {},
     "output_type": "execute_result"
    }
   ],
   "source": [
    "wiki = TextBlob(\"Whatever is done for love always occurs beyond good and evil\")\n",
    "wiki.tags"
   ]
  },
  {
   "cell_type": "code",
   "execution_count": 12,
   "metadata": {},
   "outputs": [
    {
     "data": {
      "text/plain": [
       "WordList(['Whatever', 'is', 'done', 'for', 'love', 'always', 'occurs', 'beyond', 'good', 'and', 'evil'])"
      ]
     },
     "execution_count": 12,
     "metadata": {},
     "output_type": "execute_result"
    }
   ],
   "source": [
    "wiki.words"
   ]
  },
  {
   "cell_type": "code",
   "execution_count": 14,
   "metadata": {},
   "outputs": [
    {
     "data": {
      "text/plain": [
       "0.06666666666666665"
      ]
     },
     "execution_count": 14,
     "metadata": {},
     "output_type": "execute_result"
    }
   ],
   "source": [
    "wiki.sentiment.polarity"
   ]
  },
  {
   "cell_type": "code",
   "execution_count": 18,
   "metadata": {},
   "outputs": [
    {
     "name": "stdout",
     "output_type": "stream",
     "text": [
      "RT @TheBlock__: Ethereum Classic has experienced “multiple 100+” reorg attack\n",
      "https://t.co/Jn7lSsusme\n",
      "Sentiment(polarity=0.32222222222222224, subjectivity=0.35555555555555557)\n",
      "ethereum classic blockchain attack: https://t.co/irJfoQId3j\n",
      "Sentiment(polarity=0.16666666666666666, subjectivity=0.16666666666666666)\n",
      "RT @matt_odell: Makes sense to me that eth stakeholders are attacking etc ahead of the Constantinople and progpow forks to discourage miner…\n",
      "Sentiment(polarity=0.0, subjectivity=0.0)\n",
      "RT @etherchain_org: We can confirm that there was a successful 51% attack on the Ethereum Classic (#ETC) network with multiple 100+ block r…\n",
      "Sentiment(polarity=0.3055555555555555, subjectivity=0.37222222222222223)\n",
      "RT @ziggamon: 51% attack ongoing on Ethereum Classic. \"Multiple 100+ block reorgs\"\n",
      " https://t.co/QeTHvIivXH\n",
      "Sentiment(polarity=0.08333333333333333, subjectivity=0.08333333333333333)\n",
      "RT @e_Chat_ICO: e-Chat Final ICO Round Closes in 1 Day\n",
      "https://t.co/v0J5g7T4ij\n",
      "#EChatICO #ICO #btc #Bitcoin #Ethereum #crypto #blockchain #…\n",
      "Sentiment(polarity=-0.1, subjectivity=0.7)\n",
      "RT @etherchain_org: We can confirm that there was a successful 51% attack on the Ethereum Classic (#ETC) network with multiple 100+ block r…\n",
      "Sentiment(polarity=0.3055555555555555, subjectivity=0.37222222222222223)\n",
      "RT @goBitTech: BitTech Giveaway\n",
      "\n",
      "How to Win:\n",
      "1. Follow @goBitTech \n",
      "2. RETWEET or LIKE this post\n",
      "\n",
      "One random follower will win $20 worth of…\n",
      "Sentiment(polarity=0.35000000000000003, subjectivity=0.35000000000000003)\n",
      "RT @TercetN: #Tercet platform benefits \n",
      "\n",
      "Marketers would have access to ads inventory by top publishers to maximize their ROI, thereby crea…\n",
      "Sentiment(polarity=0.5, subjectivity=0.5)\n",
      "RT @loveusever: IGZI project have a tough team. I believe that thay bring it to the leaders of the industry! Be close to the leader. invest…\n",
      "Sentiment(polarity=-0.4861111111111111, subjectivity=0.8333333333333334)\n",
      "RT @Altcointr1: https://t.co/qGNehnTKO6 Create an account on Digifinex Exchance, complete KYC and earn 0.015 #eth\n",
      "\n",
      "#airdrop #bounty #freeto…\n",
      "Sentiment(polarity=0.1, subjectivity=0.4)\n",
      "An itibariyle bazı kripto paraların değerleri şöyle;\n",
      "Bitcoin 4.051.73 dolar\n",
      "Ethereum 154.22 dolar\n",
      "Bitcoin Cash 162.… https://t.co/Zv143sKM7G\n",
      "Sentiment(polarity=0.0, subjectivity=0.0)\n"
     ]
    }
   ],
   "source": [
    "import tweepy\n",
    "\n",
    "# Four variables for authenticating with Twitter:\n",
    "consumer_key = \"HTYq5KIxwbKPni4IONkT0FgN1\"\n",
    "consumer_secret = \"936JQd7lQbAeGozAVio38W0fkvuYLzSg6PUc1Eiix8L2JM9yTK\"\n",
    "\n",
    "access_token = \"1082337562759520257-kZUvNffpvlSrGfddUIO99JC1BMCfds\"\n",
    "access_token_secret = \"HKSd8UBqOsR5AdGwDHg1vOud8nLHcg7DNCpBzgMAGwrIR\"\n",
    "\n",
    "# Authentication:\n",
    "auth = tweepy.OAuthHandler(consumer_key, consumer_secret)\n",
    "auth.set_access_token(access_token, access_token_secret)\n",
    "\n",
    "# API: Twitter matches:\n",
    "api = tweepy.API(auth)\n",
    "\n",
    "# Retrieving of tweets:\n",
    "public_tweets = api.search(\"ethereum\")\n",
    "\n",
    "for tweet in public_tweets:\n",
    "    print(tweet.text)\n",
    "    analysis = TextBlob(tweet.text)\n",
    "    print(analysis.sentiment)\n",
    "    "
   ]
  }
 ],
 "metadata": {
  "kernelspec": {
   "display_name": "Python 3",
   "language": "python",
   "name": "python3"
  },
  "language_info": {
   "codemirror_mode": {
    "name": "ipython",
    "version": 3
   },
   "file_extension": ".py",
   "mimetype": "text/x-python",
   "name": "python",
   "nbconvert_exporter": "python",
   "pygments_lexer": "ipython3",
   "version": "3.7.0"
  }
 },
 "nbformat": 4,
 "nbformat_minor": 2
}
