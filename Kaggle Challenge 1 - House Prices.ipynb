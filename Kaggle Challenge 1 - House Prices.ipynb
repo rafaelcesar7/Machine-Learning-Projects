{
 "cells": [
  {
   "cell_type": "code",
   "execution_count": 1,
   "metadata": {},
   "outputs": [],
   "source": [
    "# Practice Skills: Random forest and gradient boosting\n",
    "\n",
    "# Goal: It is your job to predict the sales price for each house (SalePrice)\n",
    "\n",
    "# Metric: Submissions are evaluated on RMSE between the logarithm of the \n",
    "## predicted value and the logarithm of the observed sales price.\n",
    "\n",
    "# Submission format.\n",
    "\n",
    "# https://www.kaggle.com/juliencs/a-study-on-regression-applied-to-the-ames-dataset"
   ]
  },
  {
   "cell_type": "code",
   "execution_count": 8,
   "metadata": {},
   "outputs": [],
   "source": [
    "# Importing the libraries:\n",
    "import numpy as np\n",
    "import pandas as pd\n",
    "import matplotlib.pyplot as plt\n",
    "%matplotlib inline\n",
    "import csv"
   ]
  },
  {
   "cell_type": "code",
   "execution_count": 28,
   "metadata": {},
   "outputs": [
    {
     "name": "stdout",
     "output_type": "stream",
     "text": [
      "Train data (rows, columns): (1460, 81)\n"
     ]
    }
   ],
   "source": [
    "# Importing the data:\n",
    "train = pd.read_csv(r\"C:\\Users\\rafae\\Desktop\\Machine Learning\\Kaggle - House Prices/train.csv\")\n",
    "print(\"Train data (rows, columns): \" + str(train.shape))\n",
    "\n",
    "df_train = pd.DataFrame(train)"
   ]
  },
  {
   "cell_type": "code",
   "execution_count": 27,
   "metadata": {},
   "outputs": [],
   "source": [
    "# Looking for outliers in the data:\n",
    "\n"
   ]
  },
  {
   "cell_type": "code",
   "execution_count": 29,
   "metadata": {},
   "outputs": [],
   "source": [
    "# Deatling with NaN:\n",
    "# nan = df_train > 0\n",
    "# df_train[nan]\n",
    "# len(df_train)\n",
    "# df_fillna(value=0, inplace=True)"
   ]
  },
  {
   "cell_type": "code",
   "execution_count": null,
   "metadata": {},
   "outputs": [],
   "source": [
    "# Look for outliers\n",
    "# Analyse which NaNs must be substituted\n",
    "# Normalize the data\n",
    "# Check which variables explain the SalesPrice better\n"
   ]
  }
 ],
 "metadata": {
  "kernelspec": {
   "display_name": "Python 3",
   "language": "python",
   "name": "python3"
  },
  "language_info": {
   "codemirror_mode": {
    "name": "ipython",
    "version": 3
   },
   "file_extension": ".py",
   "mimetype": "text/x-python",
   "name": "python",
   "nbconvert_exporter": "python",
   "pygments_lexer": "ipython3",
   "version": "3.7.0"
  }
 },
 "nbformat": 4,
 "nbformat_minor": 2
}
